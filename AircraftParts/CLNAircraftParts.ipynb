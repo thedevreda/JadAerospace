{
 "cells": [
  {
   "cell_type": "code",
   "execution_count": 2,
   "id": "2c7c7e90",
   "metadata": {},
   "outputs": [
    {
     "name": "stdout",
     "output_type": "stream",
     "text": [
      "<class 'pandas.core.frame.DataFrame'>\n",
      "RangeIndex: 500 entries, 0 to 499\n",
      "Data columns (total 3 columns):\n",
      " #   Column       Non-Null Count  Dtype \n",
      "---  ------       --------------  ----- \n",
      " 0   Part Name    500 non-null    object\n",
      " 1   Description  495 non-null    object\n",
      " 2   Quantity     500 non-null    int64 \n",
      "dtypes: int64(1), object(2)\n",
      "memory usage: 11.8+ KB\n"
     ]
    }
   ],
   "source": [
    "import pandas as pd\n",
    "from datasets import load_dataset\n",
    "\n",
    "# Loading Dataset\n",
    "datasets = load_dataset(\"lukebarousse/data_jobs\")\n",
    "df = datasets['train'].to_pandas()\n",
    "\n",
    "# Second Dataset\n",
    "ds = pd.read_csv(r\"C:\\Users\\The Dev Reda\\Desktop\\JadAerospace\\AircraftParts\\jadaero_parts_fast.csv\")\n",
    "\n",
    "ds.info()"
   ]
  },
  {
   "cell_type": "markdown",
   "id": "0e43975d",
   "metadata": {},
   "source": [
    "`DataSet : part number | part name (part) | description`"
   ]
  }
 ],
 "metadata": {
  "kernelspec": {
   "display_name": "learning_python",
   "language": "python",
   "name": "python3"
  },
  "language_info": {
   "codemirror_mode": {
    "name": "ipython",
    "version": 3
   },
   "file_extension": ".py",
   "mimetype": "text/x-python",
   "name": "python",
   "nbconvert_exporter": "python",
   "pygments_lexer": "ipython3",
   "version": "3.11.11"
  }
 },
 "nbformat": 4,
 "nbformat_minor": 5
}
